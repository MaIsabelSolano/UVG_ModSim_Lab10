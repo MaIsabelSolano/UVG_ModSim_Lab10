{
 "cells": [
  {
   "cell_type": "markdown",
   "metadata": {},
   "source": [
    "Universidad del Valle de Guatemala <br>\n",
    "Facultad de Ingeniería <br>\n",
    "Departamento de Ciencias de la Computación <br>\n",
    "Modelación y Simulación\n",
    "\n",
    "# Laboratorio 10\n",
    "\n",
    "Integrantes:\n",
    "- Marco Orozco\n",
    "- Diego Perdomo \n",
    "- Isabel Solano"
   ]
  },
  {
   "cell_type": "markdown",
   "metadata": {},
   "source": [
    "## Instrucciones\n",
    "- Esta actividad en grupos de 4 máximo\n",
    "- No se permitirá ni se aceptará cualquier indicio de copia. De presentarse, se procederá según el reglamento correspondiente.\n",
    "- Recuerden dejar claro el procedimiento seguido para las soluciones dadas cuando corresponda.\n",
    "- Cuando corresponda, deberán generar un archivo PDF para subirlo al espacio en Canvas.\n",
    "- Cuando corresponda, deberán subir el archivo de código correspondiente a las respuestas de cada task."
   ]
  },
  {
   "cell_type": "markdown",
   "metadata": {},
   "source": [
    "## Ejercicio Único\n",
    "Como bien sabemos, una aplicación tradicional de Algoritmos Genéticos es la optimización de funciones, pero este no solo se limita a ello, sino también, al ser este algoritmo potenciado con Redes Neuronales, se pueden llegar a crear proyectos más complejos. <br>\n",
    "Para este ejercicio tienen libertad de elegir un tema o aplicación de Algoritmos Genéticos. Teniendo en cuenta que deben programar el framework para algoritmos genéticos que consiste en\n",
    "- Función objetivo/fitness/apitud\n",
    "- Función de selección\n",
    "- Función de crossover\n",
    "- Función de mutación\n",
    "- Función de ejecución (en esta se hacen llamadas a las funciones mencionadas anteriormente\n",
    "<br>\n",
    "\n",
    "Además, si deciden hacer la optimización de funciones, deben usar por lo menos dos funciones de ejemplo y\n",
    "mostrar cual es el resultado matemático correcto. <br>\n",
    "Recuerden citar adecuadamente todas las fuentes que utilicen.\n"
   ]
  },
  {
   "cell_type": "code",
   "execution_count": null,
   "metadata": {},
   "outputs": [],
   "source": [
    "# librerías"
   ]
  }
 ],
 "metadata": {
  "kernelspec": {
   "display_name": "Python 3",
   "language": "python",
   "name": "python3"
  },
  "language_info": {
   "name": "python",
   "version": "3.10.2"
  }
 },
 "nbformat": 4,
 "nbformat_minor": 2
}
