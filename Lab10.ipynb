{
 "cells": [
  {
   "cell_type": "markdown",
   "metadata": {},
   "source": [
    "Universidad del Valle de Guatemala <br>\n",
    "Facultad de Ingeniería <br>\n",
    "Departamento de Ciencias de la Computación <br>\n",
    "Modelación y Simulación\n",
    "\n",
    "# Laboratorio 10\n",
    "\n",
    "Integrantes:\n",
    "- Marco Orozco\n",
    "- Diego Perdomo \n",
    "- Isabel Solano"
   ]
  },
  {
   "cell_type": "markdown",
   "metadata": {},
   "source": [
    "## Instrucciones\n",
    "- Esta actividad en grupos de 4 máximo\n",
    "- No se permitirá ni se aceptará cualquier indicio de copia. De presentarse, se procederá según el reglamento correspondiente.\n",
    "- Recuerden dejar claro el procedimiento seguido para las soluciones dadas cuando corresponda.\n",
    "- Cuando corresponda, deberán generar un archivo PDF para subirlo al espacio en Canvas.\n",
    "- Cuando corresponda, deberán subir el archivo de código correspondiente a las respuestas de cada task."
   ]
  },
  {
   "cell_type": "markdown",
   "metadata": {},
   "source": [
    "## Ejercicio Único\n",
    "Como bien sabemos, una aplicación tradicional de Algoritmos Genéticos es la optimización de funciones, pero este no solo se limita a ello, sino también, al ser este algoritmo potenciado con Redes Neuronales, se pueden llegar a crear proyectos más complejos. <br>\n",
    "Para este ejercicio tienen libertad de elegir un tema o aplicación de Algoritmos Genéticos. Teniendo en cuenta que deben programar el framework para algoritmos genéticos que consiste en\n",
    "- Función objetivo/fitness/apitud\n",
    "- Función de selección\n",
    "- Función de crossover\n",
    "- Función de mutación\n",
    "- Función de ejecución (en esta se hacen llamadas a las funciones mencionadas anteriormente\n",
    "<br>\n",
    "\n",
    "Además, si deciden hacer la optimización de funciones, deben usar por lo menos dos funciones de ejemplo y\n",
    "mostrar cual es el resultado matemático correcto. <br>\n",
    "Recuerden citar adecuadamente todas las fuentes que utilicen.\n"
   ]
  },
  {
   "cell_type": "markdown",
   "metadata": {},
   "source": [
    "A continuación se presentará una apliacción de un algoritmo genético para, a partir de cietnos de cadenas aleatorias, obtener la frase \"**modelación y simulación 2023**\" luego de que hayan pasado por diversas mutaciones. "
   ]
  },
  {
   "cell_type": "code",
   "execution_count": 1,
   "metadata": {},
   "outputs": [],
   "source": [
    "# librerías\n",
    "import random\n",
    "import matplotlib.pyplot as plt"
   ]
  },
  {
   "cell_type": "code",
   "execution_count": 2,
   "metadata": {},
   "outputs": [],
   "source": [
    "# variables necesarias\n",
    "goal = \"Modelación y Simulación 2023\"\n",
    "goal_lenght = len(goal)\n",
    "options = \"1234567890qwertyuiopasdfghjklñzxcvbnmáéíóú QWERTYUIOPASDFGHJKLZXCVBNMÁÉÍÓÚ\"\n",
    "population_size = 500\n",
    "mutation_rate = 0.01\n"
   ]
  },
  {
   "cell_type": "code",
   "execution_count": 3,
   "metadata": {},
   "outputs": [],
   "source": [
    "# función de generación\n",
    "def gen_rand_seq():\n",
    "    ret = \"\".join(random.choice(options) for _ in range(goal_lenght))\n",
    "    return ret\n",
    "\n",
    "    \"\"\"\n",
    "    Geneara una secuencia del largo de la secuencia meta con las\n",
    "    opciones disponibles\n",
    "    \"\"\""
   ]
  },
  {
   "cell_type": "code",
   "execution_count": 4,
   "metadata": {},
   "outputs": [],
   "source": [
    "# función de aptitud\n",
    "def aptitud_score(seq):\n",
    "    score = 0\n",
    "    for i in range(goal_lenght):\n",
    "        if goal[i] == seq[i]:\n",
    "            score += 1\n",
    "    return score\n",
    "\n",
    "    \"\"\"\n",
    "    Determina el parecido entre una cadena y la meta\n",
    "    \"\"\""
   ]
  },
  {
   "cell_type": "code",
   "execution_count": 5,
   "metadata": {},
   "outputs": [],
   "source": [
    "# función de fitness 1\n",
    "def choose_parents(population):\n",
    "    opt = random.sample(population, 10)\n",
    "    opt.sort(key=lambda x: -aptitud_score(x))\n",
    "    return opt[0], opt[1]\n",
    "    \"\"\"\n",
    "    Obtiene una muestra random de la población de la cual\n",
    "    selecciona a las secuencias con la aptitud más alta\n",
    "    \"\"\""
   ]
  },
  {
   "cell_type": "code",
   "execution_count": 6,
   "metadata": {},
   "outputs": [],
   "source": [
    "# función de fitness 2\n",
    "def replace_population(population, desc):\n",
    "    population.sort(key= lambda x: - aptitud_score(x))\n",
    "    for i in range(len(desc)):\n",
    "        population[-(i + 1)] = desc[i]"
   ]
  },
  {
   "cell_type": "code",
   "execution_count": 7,
   "metadata": {},
   "outputs": [],
   "source": [
    "# función de crossover\n",
    "def crossover(parent1, parent2):\n",
    "    pos = random.randint(1, goal_lenght - 1)\n",
    "    child1 = parent1[:pos] + parent2[pos:]\n",
    "    child2 = parent2[:pos] + parent2[pos:]\n",
    "    return child1, child2\n",
    "    \"\"\"\n",
    "    De 2 secuencias cruza los valores padres en un punto aleatorio\n",
    "    y retorna 2 secuencias con el inicio del primer padre y el final\n",
    "    del segundo y viceversa\n",
    "    \"\"\""
   ]
  },
  {
   "cell_type": "code",
   "execution_count": 8,
   "metadata": {},
   "outputs": [],
   "source": [
    "# función de mutación\n",
    "def mutate(seq):\n",
    "    new_seq = \"\"\n",
    "    for i in range(goal_lenght):\n",
    "        if random.random() < mutation_rate:\n",
    "            new_seq += random.choice(options)\n",
    "        else:\n",
    "            new_seq += seq[i]\n",
    "    return new_seq\n",
    "    \"\"\"\n",
    "    Realiza mutaciones en la secuencia acorde a la tasa\n",
    "    de mutación \n",
    "    \"\"\""
   ]
  },
  {
   "cell_type": "code",
   "execution_count": 9,
   "metadata": {},
   "outputs": [],
   "source": [
    "found_at = []"
   ]
  },
  {
   "cell_type": "code",
   "execution_count": 10,
   "metadata": {},
   "outputs": [],
   "source": [
    "# función de ejecución (algoritmo genético principal)\n",
    "def exe():\n",
    "    population_ = [gen_rand_seq() for _ in range(population_size)]\n",
    "    gen = 0\n",
    "\n",
    "    # visualización de datos\n",
    "    aptitudes = []\n",
    "    aptitude_averages = []\n",
    "    best_aptitudes = []\n",
    "    worst_aptitudes = []\n",
    "\n",
    "    search = True\n",
    "    while (search):\n",
    "        # calcular aptitudes\n",
    "        aptitudes = []\n",
    "        for seq in population_:\n",
    "            aptitudes.append(aptitud_score(seq))\n",
    "        aptitude_averages.append(sum(aptitudes) / len(aptitudes))\n",
    "        best_aptitudes.append(max(aptitudes))\n",
    "        worst_aptitudes.append(min(aptitudes))\n",
    "        \n",
    "        # verificar el objetivo\n",
    "        if max(aptitudes) == len(goal):\n",
    "            print(f\"Gen {gen}: {population_[aptitudes.index(max(aptitudes))]}\")\n",
    "            print(\"¡Se ha encontrado el objetivo!\")\n",
    "            search = False\n",
    "\n",
    "        children = []\n",
    "        for _ in range(population_size // 2):\n",
    "            parent1, parent2 = choose_parents(population_)\n",
    "            child1, child2 = crossover(parent1, parent2)\n",
    "            children.extend([mutate(child1), mutate(child2)])\n",
    "\n",
    "        # sustituir población actual por descendientes\n",
    "        replace_population(population_, children)\n",
    "\n",
    "        # Metadatos cada 10 generaciones\n",
    "        if gen % 10 == 0 or gen == 0:\n",
    "            ind =  aptitudes.index(max(aptitudes))\n",
    "            # print(aptitudes)\n",
    "            # print(\"max \", max(aptitudes))\n",
    "            # print(\"ind \", ind)\n",
    "            print(f\"Gen {gen}: {population_[ind]}\")\n",
    "\n",
    "        gen += 1\n",
    "\n",
    "    found_at.append(gen)"
   ]
  },
  {
   "cell_type": "code",
   "execution_count": 11,
   "metadata": {},
   "outputs": [
    {
     "name": "stdout",
     "output_type": "stream",
     "text": [
      "===============================================\n",
      "===========||iteration 0||===================\n",
      "Gen 0: TogGZF3DóBMHrCkn LFJ WUeizAr\n",
      "Gen 10: MPdGl6cbnnxE sVsulNc71u tÍwL\n",
      "Gen 20: M3dGl6cJnnxylSimulNWi8n 2v2O\n",
      "Gen 30: MPdGlacUbn y Simultci8n 2v23\n",
      "Gen 40: MPdelacUón y SimulNci8n 2v23\n",
      "Gen 50: MPdelacUón y Simnloci n 2v23\n",
      "Gen 60: MPdelacUón y Simul2ci8n 2v23\n",
      "Gen 70: ModelacUón y Simulóci8n 2K23\n",
      "Gen 80: Modelamión y Simulación 2i23\n",
      "Gen 87: Modelación y Simulación 2023\n",
      "¡Se ha encontrado el objetivo!\n",
      "===============================================\n",
      "===========||iteration 1||===================\n",
      "Gen 0: fbucggkÉd5IWbZ8w81UpÍTnRmpwP\n",
      "Gen 10: Úhdúla 5óG3n pGóI8aKEónáñC23\n",
      "Gen 20: Úhdúl5úiónty AúmueacÍón5P023\n",
      "Gen 30: ModúlaIiónty YGmudacEón w023\n",
      "Gen 40: MEdúlaciónty Aúmulacéón w023\n",
      "Gen 50: Modelación y AimulacEón w023\n",
      "Gen 60: Modelación y AimulacEón N023\n",
      "Gen 70: Modelación y SimulacEón w023\n",
      "Gen 80: Modelación y SimulacEón w023\n",
      "Gen 90: Modelación y Simulacxón G023\n",
      "Gen 92: Modelación y Simulación 2023\n",
      "¡Se ha encontrado el objetivo!\n",
      "===============================================\n",
      "===========||iteration 2||===================\n",
      "Gen 0: fh3WwÁáÉxV7éHy 1ry2lTÓKnX5i \n",
      "Gen 10: ILdWíaPifÁ n IunjÚúBUWot2X2 \n",
      "Gen 20: MqdtlaIiÓI y Iimu4aFAónF2Ba3\n",
      "Gen 30: ModtlaIiOp y Iimulac0ónF2023\n",
      "Gen 40: ModNlaTiÉn y Iimulac0ón 2023\n",
      "Gen 50: ModtlaTiÉn y Simulac0ón 2023\n",
      "Gen 60: Modelación f Simulac0ón 2023\n",
      "Gen 68: Modelación y Simulación 2023\n",
      "¡Se ha encontrado el objetivo!\n",
      "===============================================\n",
      "===========||iteration 3||===================\n",
      "Gen 0: ÁvÚbGhYDAláúóÉcEHiSviNíQKgbG\n",
      "Gen 10: LodenrcLónmywiÍs1DacLóGtóm22\n",
      "Gen 20: LodenSciónmywSBmucac4wn5Á023\n",
      "Gen 30: Lode92ciónmyESBmuwación5ÁM23\n",
      "Gen 40: LodelUción ywSjmulaciónoÁ023\n",
      "Gen 50: LodelUción ywSimulación52023\n",
      "Gen 60: ModemUción y Simulación52023\n",
      "Gen 70: Modelación y Simulación52023\n",
      "Gen 80: Modelación y SimulaciónG2023\n",
      "Gen 90: Modelación y Simulación52023\n",
      "Gen 98: Modelación y Simulación 2023\n",
      "¡Se ha encontrado el objetivo!\n",
      "===============================================\n",
      "===========||iteration 4||===================\n",
      "Gen 0: ákzGCyBSñmZÉMFnMu qTpLJIvpn4\n",
      "Gen 10: MT2ó8aJiñník kízDlt i4q3CVH3\n",
      "Gen 20: Mp2ó8aviqn Á SíZulk8ióh íP23\n",
      "Gen 30: MpAelawión y 4qvult8ió7 2P23\n",
      "Gen 40: MoAelación y SímulC ión 2P23\n",
      "Gen 50: MoAelación y Símulfción 2P23\n",
      "Gen 60: Modelación y Símultción 2N23\n",
      "Gen 70: Modelación y Simultción 2P23\n",
      "Gen 80: Modelación y Simultción 2P23\n",
      "Gen 90: Modelación y Simultción 2P23\n",
      "Gen 100: Modelación y Simultción 2623\n",
      "Gen 110: Modelación y Simultción 2623\n",
      "Gen 120: Modelación ybSimulación 2N23\n",
      "Gen 130: Modelación y Simulación 2Z23\n",
      "Gen 140: Modelación y Simulación 2223\n",
      "Gen 145: Modelación y Simulación 2023\n",
      "¡Se ha encontrado el objetivo!\n",
      "Entontrado en promedio en 99.0\n"
     ]
    }
   ],
   "source": [
    "iterations = 5\n",
    "for i in range(iterations):\n",
    "    print(\"===============================================\")\n",
    "    print(f\"===========||iteration {i}||===================\")\n",
    "    exe()\n",
    "\n",
    "print(f\"Entontrado en promedio en {sum(found_at) / len(found_at)}\")"
   ]
  }
 ],
 "metadata": {
  "kernelspec": {
   "display_name": "Python 3",
   "language": "python",
   "name": "python3"
  },
  "language_info": {
   "codemirror_mode": {
    "name": "ipython",
    "version": 3
   },
   "file_extension": ".py",
   "mimetype": "text/x-python",
   "name": "python",
   "nbconvert_exporter": "python",
   "pygments_lexer": "ipython3",
   "version": "3.10.2"
  }
 },
 "nbformat": 4,
 "nbformat_minor": 2
}
